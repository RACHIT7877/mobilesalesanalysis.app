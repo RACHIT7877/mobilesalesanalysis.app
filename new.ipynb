{
 "cells": [
  {
   "cell_type": "markdown",
   "id": "1877edef-ea5b-4aa0-b787-8d572ffea2ba",
   "metadata": {},
   "source": [
    "### 1. which brand has the highest overall sales?\r\n",
    "\n"
   ]
  },
  {
   "cell_type": "markdown",
   "id": "d1fa7637-d37d-45aa-95d4-aa0ada9dd392",
   "metadata": {},
   "source": [
    "### 2. what memory and storage option are most popular among customers?"
   ]
  },
  {
   "cell_type": "markdown",
   "id": "eaba2157-cddf-45a1-841d-f9d591137853",
   "metadata": {},
   "source": [
    "### 3. which price range sees the maximum sales volume?\n",
    "\r\n"
   ]
  },
  {
   "cell_type": "markdown",
   "id": "c6aa3dc1-5d48-4531-8594-1400d541bcf0",
   "metadata": {},
   "source": [
    "### 4. what is the average rating of mobiles with highest sales?"
   ]
  },
  {
   "cell_type": "markdown",
   "id": "1af3b2fd-fa1b-437b-be03-82bdcabe38ef",
   "metadata": {},
   "source": [
    "### 5. which brand offers the highest average discount?"
   ]
  },
  {
   "cell_type": "markdown",
   "id": "89286bd9-24e8-4fa0-98d1-1343b205d756",
   "metadata": {},
   "source": [
    "### 6. what are the top three models in terms in revenue?\r\n",
    "\n"
   ]
  },
  {
   "cell_type": "markdown",
   "id": "2c00c635-df26-42b5-ba04-ef622b7ddf0f",
   "metadata": {},
   "source": [
    "### 7. what is the average discount percentage across brands?"
   ]
  },
  {
   "cell_type": "code",
   "execution_count": null,
   "id": "efe44ac2-a439-4c86-9ce9-fda2b52496cb",
   "metadata": {},
   "outputs": [],
   "source": []
  }
 ],
 "metadata": {
  "kernelspec": {
   "display_name": "Python 3 (ipykernel)",
   "language": "python",
   "name": "python3"
  },
  "language_info": {
   "codemirror_mode": {
    "name": "ipython",
    "version": 3
   },
   "file_extension": ".py",
   "mimetype": "text/x-python",
   "name": "python",
   "nbconvert_exporter": "python",
   "pygments_lexer": "ipython3",
   "version": "3.12.4"
  }
 },
 "nbformat": 4,
 "nbformat_minor": 5
}
